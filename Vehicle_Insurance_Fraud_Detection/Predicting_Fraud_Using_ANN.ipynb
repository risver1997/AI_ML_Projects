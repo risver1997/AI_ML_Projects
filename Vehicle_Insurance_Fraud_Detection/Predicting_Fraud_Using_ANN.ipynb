{
 "cells": [
  {
   "cell_type": "code",
   "execution_count": 160,
   "id": "9f479de3",
   "metadata": {},
   "outputs": [],
   "source": [
    "import numpy as np\n",
    "import pandas as pd\n",
    "from tensorflow.keras.models import Sequential\n",
    "from tensorflow.keras.layers import Dense\n",
    "from sklearn.preprocessing import LabelEncoder, StandardScaler, MinMaxScaler\n",
    "from sklearn.model_selection import train_test_split\n",
    "from sklearn.metrics import confusion_matrix, accuracy_score"
   ]
  },
  {
   "cell_type": "code",
   "execution_count": 122,
   "id": "e42250b4",
   "metadata": {},
   "outputs": [
    {
     "name": "stdout",
     "output_type": "stream",
     "text": [
      "0 Month ['Dec' 'Jan' 'Oct' 'Jun' 'Feb' 'Nov' 'Apr' 'Mar' 'Aug' 'Jul' 'May' 'Sep']\n",
      "1 WeekOfMonth [5 3 2 4 1]\n",
      "2 DayOfWeek ['Wednesday' 'Friday' 'Saturday' 'Monday' 'Tuesday' 'Sunday' 'Thursday']\n",
      "3 Make ['Honda' 'Toyota' 'Ford' 'Mazda' 'Chevrolet' 'Pontiac' 'Accura' 'Dodge'\n",
      " 'Mercury' 'Jaguar' 'Nisson' 'VW' 'Saab' 'Saturn' 'Porche' 'BMW' 'Mecedes'\n",
      " 'Ferrari' 'Lexus']\n",
      "4 AccidentArea ['Urban' 'Rural']\n",
      "5 DayOfWeekClaimed ['Tuesday' 'Monday' 'Thursday' 'Friday' 'Wednesday' 'Saturday' 'Sunday']\n",
      "6 MonthClaimed ['Jan' 'Nov' 'Jul' 'Feb' 'Mar' 'Dec' 'Apr' 'Aug' 'May' 'Jun' 'Sep' 'Oct']\n",
      "7 WeekOfMonthClaimed [1 4 2 3 5]\n",
      "8 Sex ['Female' 'Male']\n",
      "9 MaritalStatus ['Single' 'Married' 'Widow' 'Divorced']\n",
      "10 Age [21 34 47 65 27 20 36  0 30 42 71 52 28 61 38 41 32 40 63 31 45 60 39 55\n",
      " 35 44 72 29 37 59 49 50 26 48 64 33 74 23 25 56 16 68 18 51 22 53 46 43\n",
      " 57 54 69 67 19 78 77 75 80 58 73 24 76 62 79 70 17 66]\n",
      "11 Fault ['Policy Holder' 'Third Party']\n",
      "12 PolicyType ['Sport - Liability' 'Sport - Collision' 'Sedan - Liability'\n",
      " 'Utility - All Perils' 'Sedan - All Perils' 'Sedan - Collision'\n",
      " 'Utility - Collision' 'Utility - Liability' 'Sport - All Perils']\n",
      "13 VehicleCategory ['Sport' 'Utility' 'Sedan']\n",
      "14 VehiclePrice ['more than 69000' '20000 to 29000' '30000 to 39000' 'less than 20000'\n",
      " '40000 to 59000' '60000 to 69000']\n",
      "15 FraudFound_P [0 1]\n",
      "16 PolicyNumber [    1     2     3 ... 15418 15419 15420]\n",
      "17 RepNumber [12 15  7  4  3 14  1 13 11 16  6  2  8  5  9 10]\n",
      "18 Deductible [300 400 500 700]\n",
      "19 DriverRating [1 4 3 2]\n",
      "20 Days_Policy_Accident ['more than 30' '15 to 30' 'none' '1 to 7' '8 to 15']\n",
      "21 Days_Policy_Claim ['more than 30' '15 to 30' '8 to 15']\n",
      "22 PastNumberOfClaims ['none' '1' '2 to 4' 'more than 4']\n",
      "23 AgeOfVehicle ['3 years' '6 years' '7 years' 'more than 7' '5 years' 'new' '4 years'\n",
      " '2 years']\n",
      "24 AgeOfPolicyHolder ['26 to 30' '31 to 35' '41 to 50' '51 to 65' '21 to 25' '36 to 40'\n",
      " '16 to 17' 'over 65' '18 to 20']\n",
      "25 PoliceReportFiled ['No' 'Yes']\n",
      "26 WitnessPresent ['No' 'Yes']\n",
      "27 AgentType ['External' 'Internal']\n",
      "28 NumberOfSuppliments ['none' 'more than 5' '3 to 5' '1 to 2']\n",
      "29 AddressChange_Claim ['1 year' 'no change' '4 to 8 years' '2 to 3 years' 'under 6 months']\n",
      "30 NumberOfCars ['3 to 4' '1 vehicle' '2 vehicles' '5 to 8' 'more than 8']\n",
      "31 Year [1994 1995 1996]\n",
      "32 BasePolicy ['Liability' 'Collision' 'All Perils']\n",
      "False\n"
     ]
    }
   ],
   "source": [
    "dataset = pd.read_csv(\"fraud_oracle.csv\")\n",
    "\n",
    "dataset['Age'] = dataset['Age'].replace('0', np.nan)\n",
    "dataset['DayOfWeekClaimed'] = dataset['DayOfWeekClaimed'].replace('0', np.nan)\n",
    "dataset['MonthClaimed'] = dataset['MonthClaimed'].replace('0', np.nan)\n",
    "dataset = dataset.dropna()\n",
    "i = 0\n",
    "for col in dataset.columns:\n",
    "    print(i, col, dataset[col].unique())\n",
    "    i+=1\n",
    "print(dataset.isnull().values.any())"
   ]
  },
  {
   "cell_type": "code",
   "execution_count": 123,
   "id": "3401599b",
   "metadata": {},
   "outputs": [
    {
     "name": "stdout",
     "output_type": "stream",
     "text": [
      "      Month  WeekOfMonth  DayOfWeek     Make AccidentArea DayOfWeekClaimed  \\\n",
      "0       Dec            5  Wednesday    Honda        Urban          Tuesday   \n",
      "1       Jan            3  Wednesday    Honda        Urban           Monday   \n",
      "2       Oct            5     Friday    Honda        Urban         Thursday   \n",
      "3       Jun            2   Saturday   Toyota        Rural           Friday   \n",
      "4       Jan            5     Monday    Honda        Urban          Tuesday   \n",
      "...     ...          ...        ...      ...          ...              ...   \n",
      "15415   Nov            4     Friday   Toyota        Urban          Tuesday   \n",
      "15416   Nov            5   Thursday  Pontiac        Urban           Friday   \n",
      "15417   Nov            5   Thursday   Toyota        Rural           Friday   \n",
      "15418   Dec            1     Monday   Toyota        Urban         Thursday   \n",
      "15419   Dec            2  Wednesday   Toyota        Urban         Thursday   \n",
      "\n",
      "      MonthClaimed  WeekOfMonthClaimed     Sex MaritalStatus  ...  \\\n",
      "0              Jan                   1  Female        Single  ...   \n",
      "1              Jan                   4    Male        Single  ...   \n",
      "2              Nov                   2    Male       Married  ...   \n",
      "3              Jul                   1    Male       Married  ...   \n",
      "4              Feb                   2  Female        Single  ...   \n",
      "...            ...                 ...     ...           ...  ...   \n",
      "15415          Nov                   5    Male       Married  ...   \n",
      "15416          Dec                   1    Male       Married  ...   \n",
      "15417          Dec                   1    Male        Single  ...   \n",
      "15418          Dec                   2  Female       Married  ...   \n",
      "15419          Dec                   3    Male        Single  ...   \n",
      "\n",
      "       AgeOfVehicle AgeOfPolicyHolder PoliceReportFiled WitnessPresent  \\\n",
      "0           3 years          26 to 30                No             No   \n",
      "1           6 years          31 to 35               Yes             No   \n",
      "2           7 years          41 to 50                No             No   \n",
      "3       more than 7          51 to 65               Yes             No   \n",
      "4           5 years          31 to 35                No             No   \n",
      "...             ...               ...               ...            ...   \n",
      "15415       6 years          31 to 35                No             No   \n",
      "15416       6 years          31 to 35                No             No   \n",
      "15417       5 years          26 to 30                No             No   \n",
      "15418       2 years          31 to 35                No             No   \n",
      "15419       5 years          26 to 30                No             No   \n",
      "\n",
      "      AgentType  NumberOfSuppliments  AddressChange_Claim  NumberOfCars  Year  \\\n",
      "0      External                 none               1 year        3 to 4  1994   \n",
      "1      External                 none            no change     1 vehicle  1994   \n",
      "2      External                 none            no change     1 vehicle  1994   \n",
      "3      External          more than 5            no change     1 vehicle  1994   \n",
      "4      External                 none            no change     1 vehicle  1994   \n",
      "...         ...                  ...                  ...           ...   ...   \n",
      "15415  External                 none            no change     1 vehicle  1996   \n",
      "15416  External          more than 5            no change        3 to 4  1996   \n",
      "15417  External               1 to 2            no change     1 vehicle  1996   \n",
      "15418  External          more than 5            no change     1 vehicle  1996   \n",
      "15419  External               1 to 2            no change     1 vehicle  1996   \n",
      "\n",
      "       BasePolicy  \n",
      "0       Liability  \n",
      "1       Collision  \n",
      "2       Collision  \n",
      "3       Liability  \n",
      "4       Collision  \n",
      "...           ...  \n",
      "15415   Collision  \n",
      "15416   Liability  \n",
      "15417   Collision  \n",
      "15418  All Perils  \n",
      "15419   Collision  \n",
      "\n",
      "[15419 rows x 32 columns]\n"
     ]
    }
   ],
   "source": [
    "X = dataset.loc[:, dataset.columns != 'FraudFound_P']\n",
    "print(X)"
   ]
  },
  {
   "cell_type": "code",
   "execution_count": 124,
   "id": "a0d627dc",
   "metadata": {},
   "outputs": [
    {
     "name": "stdout",
     "output_type": "stream",
     "text": [
      "       FraudFound_P\n",
      "0                 0\n",
      "1                 0\n",
      "2                 0\n",
      "3                 0\n",
      "4                 0\n",
      "...             ...\n",
      "15415             1\n",
      "15416             0\n",
      "15417             1\n",
      "15418             0\n",
      "15419             1\n",
      "\n",
      "[15419 rows x 1 columns]\n"
     ]
    }
   ],
   "source": [
    "y = dataset.iloc[:, [15]]\n",
    "print(y)"
   ]
  },
  {
   "cell_type": "markdown",
   "id": "dcbb0e47",
   "metadata": {},
   "source": [
    "<h3>Binary Encoding</h3>"
   ]
  },
  {
   "cell_type": "code",
   "execution_count": 125,
   "id": "8d5b4817",
   "metadata": {},
   "outputs": [
    {
     "name": "stdout",
     "output_type": "stream",
     "text": [
      "['Urban' 'Rural']\n",
      "['Female' 'Male']\n",
      "['No' 'Yes']\n",
      "['No' 'Yes']\n"
     ]
    }
   ],
   "source": [
    "X_new = dataset[['AccidentArea', 'Sex', 'PoliceReportFiled', 'WitnessPresent', 'Fault', 'AgentType', 'WeekOfMonth', 'WeekOfMonthClaimed', 'Age', 'RepNumber', 'Deductible', 'DriverRating']].copy()\n",
    "print(X_new.AccidentArea.unique())\n",
    "print(X_new.Sex.unique())\n",
    "print(X_new.PoliceReportFiled.unique())\n",
    "print(X_new.WitnessPresent.unique())\n",
    "X_new['AccidentArea'] = X_new['AccidentArea'].replace({'Urban':1, 'Rural':0})\n",
    "X_new['Sex'] = X_new['Sex'].replace({'Male':1, 'Female':0})\n",
    "X_new['PoliceReportFiled'] = X_new['PoliceReportFiled'].replace({'Yes':1, 'No':0})\n",
    "X_new['WitnessPresent'] = X_new['WitnessPresent'].replace({'Yes':1, 'No':0})\n",
    "X_new['Fault'] = X_new['Fault'].replace({'Policy Holder':1, 'Third Party': 0})\n",
    "X_new['AgentType'] = X_new['AgentType'].replace({'External':1, 'Internal':0})"
   ]
  },
  {
   "cell_type": "markdown",
   "id": "600ac412",
   "metadata": {},
   "source": [
    "<h3>Ordinal Encoding</h3>"
   ]
  },
  {
   "cell_type": "code",
   "execution_count": 126,
   "id": "e81295da",
   "metadata": {},
   "outputs": [
    {
     "name": "stdout",
     "output_type": "stream",
     "text": [
      "       AccidentArea  Sex  PoliceReportFiled  WitnessPresent  Fault  AgentType  \\\n",
      "0                 1    0                  0               0      1          1   \n",
      "1                 1    1                  1               0      1          1   \n",
      "2                 1    1                  0               0      1          1   \n",
      "3                 0    1                  1               0      0          1   \n",
      "4                 1    0                  0               0      0          1   \n",
      "...             ...  ...                ...             ...    ...        ...   \n",
      "15415             1    1                  0               0      1          1   \n",
      "15416             1    1                  0               0      1          1   \n",
      "15417             0    1                  0               0      1          1   \n",
      "15418             1    0                  0               0      0          1   \n",
      "15419             1    1                  0               0      1          1   \n",
      "\n",
      "       WeekOfMonth  WeekOfMonthClaimed  Age  RepNumber  Deductible  \\\n",
      "0                5                   1   21         12         300   \n",
      "1                3                   4   34         15         400   \n",
      "2                5                   2   47          7         400   \n",
      "3                2                   1   65          4         400   \n",
      "4                5                   2   27          3         400   \n",
      "...            ...                 ...  ...        ...         ...   \n",
      "15415            4                   5   35          5         400   \n",
      "15416            5                   1   30         11         400   \n",
      "15417            5                   1   24          4         400   \n",
      "15418            1                   2   34          6         400   \n",
      "15419            2                   3   21          3         400   \n",
      "\n",
      "       DriverRating  Month  MonthClaimed  DayOfWeek  DayOfWeekClaimed  \n",
      "0                 1      2             4          6                 5  \n",
      "1                 4      4             4          6                 1  \n",
      "2                 3     10             9          0                 4  \n",
      "3                 2      6             5          2                 0  \n",
      "4                 1      4             3          1                 5  \n",
      "...             ...    ...           ...        ...               ...  \n",
      "15415             4      9             9          0                 5  \n",
      "15416             3      9             2          4                 0  \n",
      "15417             4      9             2          4                 0  \n",
      "15418             4      2             2          1                 4  \n",
      "15419             4      2             2          6                 4  \n",
      "\n",
      "[15419 rows x 16 columns]\n"
     ]
    }
   ],
   "source": [
    "label_encoder_month = LabelEncoder()\n",
    "label_encoder_day = LabelEncoder()\n",
    "X_new['Month']= label_encoder_month.fit_transform(X['Month'])\n",
    "X_new['MonthClaimed'] = label_encoder_month.fit_transform(X['MonthClaimed'])\n",
    "X_new['DayOfWeek'] = label_encoder_day.fit_transform(X['DayOfWeek'])\n",
    "X_new['DayOfWeekClaimed'] = label_encoder_day.fit_transform(X['DayOfWeekClaimed'])\n",
    "print(X_new)"
   ]
  },
  {
   "cell_type": "markdown",
   "id": "8108e08e",
   "metadata": {},
   "source": [
    "<h3>Nominal Encoding</h3>"
   ]
  },
  {
   "cell_type": "markdown",
   "id": "d6a70322",
   "metadata": {},
   "source": [
    "<h6>Mapping</h6>"
   ]
  },
  {
   "cell_type": "code",
   "execution_count": 127,
   "id": "dd3a9302",
   "metadata": {},
   "outputs": [],
   "source": [
    "make_mapping = {'Honda':0, 'Toyota':1, 'Ford':2, 'Mazda':3, 'Chevrolet':4, 'Pontiac':5, 'Accura':6, 'Dodge':7, 'Mercury':8, \n",
    "                'Jaguar':9, 'Nisson':10, 'VW':11, 'Saab':12, 'Saturn':13, 'Porche':14, 'BMW':15, 'Mecedes':16, 'Ferrari':17, \n",
    "                'Lexus':18}\n",
    "marital_status_mapping = {'Single':0, 'Married':1, 'Widow':2, 'Divorced':3}\n",
    "policy_type_mapping = {'Sport - Liability':0, 'Sport - Collision':1, 'Sedan - Liability':2, 'Utility - All Perils':3,\n",
    "                       'Sedan - All Perils':4, 'Sedan - Collision':5, 'Utility - Collision':6, 'Utility - Liability':7,\n",
    "                       'Sport - All Perils':8}\n",
    "vehicle_category_mapping = {'Sport':0, 'Utility':1, 'Sedan':2}\n",
    "vehicle_price_mapping = {'more than 69000':5, '20000 to 29000':1, '30000 to 39000':2, 'less than 20000':0,\n",
    "                         '40000 to 59000':3, '60000 to 69000':4}\n",
    "days_policy_accident_mapping = {'none':0, '1 to 7':1, '8 to 15':2, '15 to 30':3, 'more than 30':4}\n",
    "days_policy_claim_mapping = {'none':0, '8 to 15':1, '15 to 30':2, 'more than 30':3}\n",
    "past_number_of_claims_mapping = {'none':0, '1':1, '2 to 4':2, 'more than 4':3}\n",
    "age_of_vehicle_mapping = {'new':0 , '2 years':1, '3 years':2, '4 years':3, '5 years':4, '6 years':5, '7 years':6, \n",
    "                          'more than 7':7}\n",
    "age_of_policy_holder_mapping = {'16 to 17':0, '18 to 20':1, '21 to 25':2, '26 to 30':3, '31 to 35':4, '36 to 40':5, \n",
    "                                '41 to 50':6, '51 to 65':7, 'over 65':8}\n",
    "number_of_suppliments_mapping = {'none':0,  '1 to 2':1,  '3 to 5':2, 'more than 5':3}\n",
    "address_change_claim_mapping = {'no change':0, 'under 6 months':1, '1 year':2,  '2 to 3 years':3, '4 to 8 years':4}\n",
    "number_of_cars_mapping = {'1 vehicle':0, '2 vehicles':1, '3 to 4':2, '5 to 8':3, 'more than 8':4}\n",
    "year_mapping = {1994:0, 1995:1, 1996:2}\n",
    "base_policy_mapping = {'Liability':0, 'Collision':1, 'All Perils':1}"
   ]
  },
  {
   "cell_type": "code",
   "execution_count": 128,
   "id": "876194dc",
   "metadata": {},
   "outputs": [
    {
     "name": "stdout",
     "output_type": "stream",
     "text": [
      "31 32\n"
     ]
    }
   ],
   "source": [
    "X_new['Make'] = X.Make.map(make_mapping)\n",
    "X_new['MaritalStatus'] = X.MaritalStatus.map(marital_status_mapping)\n",
    "X_new['PolicyType'] = X.PolicyType.map(policy_type_mapping)\n",
    "X_new['VehicleCategory'] = X.VehicleCategory.map(vehicle_category_mapping)\n",
    "X_new['VehiclePrice'] = X.VehiclePrice.map(vehicle_price_mapping)\n",
    "X_new['Days_Policy_Accident'] = X.Days_Policy_Accident.map(days_policy_accident_mapping)\n",
    "X_new['Days_Policy_Claim'] = X.Days_Policy_Claim.map(days_policy_claim_mapping)\n",
    "X_new['PastNumberOfClaims'] = X.PastNumberOfClaims.map(past_number_of_claims_mapping)\n",
    "X_new['AgeOfVehicle'] = X.AgeOfVehicle.map(age_of_vehicle_mapping)\n",
    "X_new['AgeOfPolicyHolder'] = X.AgeOfPolicyHolder.map(age_of_policy_holder_mapping)\n",
    "X_new['NumberOfSuppliments'] = X.NumberOfSuppliments.map(number_of_suppliments_mapping)\n",
    "X_new['AddressChange_Claim'] = X.AddressChange_Claim.map(address_change_claim_mapping)\n",
    "X_new['NumberOfCars'] = X.NumberOfCars.map(number_of_cars_mapping)\n",
    "X_new['Year'] = X.Year.map(year_mapping)\n",
    "X_new['BasePolicy'] = X.BasePolicy.map(base_policy_mapping)\n",
    "print(len(X_new.columns), len(X.columns))"
   ]
  },
  {
   "cell_type": "code",
   "execution_count": 192,
   "id": "a63a392f",
   "metadata": {},
   "outputs": [
    {
     "name": "stdout",
     "output_type": "stream",
     "text": [
      "(12335, 31) (3084, 31) (12335, 1) (3084, 1)\n"
     ]
    }
   ],
   "source": [
    "X_train, X_test, y_train, y_test = train_test_split(X_new, y, test_size=0.2, random_state=0)\n",
    "print(X_train.shape, X_test.shape, y_train.shape, y_test.shape)"
   ]
  },
  {
   "cell_type": "code",
   "execution_count": 193,
   "id": "9dd471aa",
   "metadata": {},
   "outputs": [],
   "source": [
    "sc = StandardScaler()\n",
    "X_train = sc.fit_transform(X_train)\n",
    "X_test = sc.transform(X_test)"
   ]
  },
  {
   "cell_type": "code",
   "execution_count": 194,
   "id": "bca40c86",
   "metadata": {},
   "outputs": [],
   "source": [
    "ann = Sequential()\n",
    "ann.add(Dense(units=31, activation='relu'))\n",
    "ann.add(Dense(units=62, activation='relu'))\n",
    "ann.add(Dense(units=124, activation='relu'))\n",
    "ann.add(Dense(units=62, activation='relu'))\n",
    "ann.add(Dense(units=31, activation='relu'))\n",
    "ann.add(Dense(units=15, activation='relu'))\n",
    "ann.add(Dense(units=1, activation='sigmoid'))"
   ]
  },
  {
   "cell_type": "code",
   "execution_count": 195,
   "id": "8c4a61dc",
   "metadata": {},
   "outputs": [],
   "source": [
    "ann.compile(optimizer='adam', loss='binary_crossentropy', metrics = ['accuracy'])"
   ]
  },
  {
   "cell_type": "code",
   "execution_count": 196,
   "id": "0b32f135",
   "metadata": {},
   "outputs": [
    {
     "name": "stdout",
     "output_type": "stream",
     "text": [
      "Epoch 1/50\n",
      "386/386 [==============================] - 1s 2ms/step - loss: 0.2164 - accuracy: 0.9406\n",
      "Epoch 2/50\n",
      "386/386 [==============================] - 1s 2ms/step - loss: 0.1891 - accuracy: 0.9406\n",
      "Epoch 3/50\n",
      "386/386 [==============================] - 1s 2ms/step - loss: 0.1820 - accuracy: 0.9406\n",
      "Epoch 4/50\n",
      "386/386 [==============================] - 1s 2ms/step - loss: 0.1775 - accuracy: 0.9406\n",
      "Epoch 5/50\n",
      "386/386 [==============================] - 1s 2ms/step - loss: 0.1753 - accuracy: 0.9406\n",
      "Epoch 6/50\n",
      "386/386 [==============================] - 1s 2ms/step - loss: 0.1691 - accuracy: 0.9405\n",
      "Epoch 7/50\n",
      "386/386 [==============================] - 1s 2ms/step - loss: 0.1657 - accuracy: 0.9407\n",
      "Epoch 8/50\n",
      "386/386 [==============================] - 1s 2ms/step - loss: 0.1621 - accuracy: 0.9419\n",
      "Epoch 9/50\n",
      "386/386 [==============================] - 1s 2ms/step - loss: 0.1547 - accuracy: 0.9434\n",
      "Epoch 10/50\n",
      "386/386 [==============================] - 1s 2ms/step - loss: 0.1499 - accuracy: 0.9442\n",
      "Epoch 11/50\n",
      "386/386 [==============================] - 1s 2ms/step - loss: 0.1437 - accuracy: 0.9451\n",
      "Epoch 12/50\n",
      "386/386 [==============================] - 1s 2ms/step - loss: 0.1358 - accuracy: 0.9474\n",
      "Epoch 13/50\n",
      "386/386 [==============================] - 1s 2ms/step - loss: 0.1263 - accuracy: 0.9509\n",
      "Epoch 14/50\n",
      "386/386 [==============================] - 1s 2ms/step - loss: 0.1205 - accuracy: 0.9534\n",
      "Epoch 15/50\n",
      "386/386 [==============================] - 1s 2ms/step - loss: 0.1122 - accuracy: 0.9557\n",
      "Epoch 16/50\n",
      "386/386 [==============================] - 1s 2ms/step - loss: 0.1063 - accuracy: 0.9585\n",
      "Epoch 17/50\n",
      "386/386 [==============================] - 1s 2ms/step - loss: 0.0955 - accuracy: 0.9621\n",
      "Epoch 18/50\n",
      "386/386 [==============================] - 1s 2ms/step - loss: 0.0879 - accuracy: 0.9655\n",
      "Epoch 19/50\n",
      "386/386 [==============================] - 1s 2ms/step - loss: 0.0826 - accuracy: 0.9671\n",
      "Epoch 20/50\n",
      "386/386 [==============================] - 1s 2ms/step - loss: 0.0747 - accuracy: 0.9707\n",
      "Epoch 21/50\n",
      "386/386 [==============================] - 1s 2ms/step - loss: 0.0708 - accuracy: 0.9707\n",
      "Epoch 22/50\n",
      "386/386 [==============================] - 1s 2ms/step - loss: 0.0643 - accuracy: 0.9749\n",
      "Epoch 23/50\n",
      "386/386 [==============================] - 1s 2ms/step - loss: 0.0537 - accuracy: 0.9799\n",
      "Epoch 24/50\n",
      "386/386 [==============================] - 1s 2ms/step - loss: 0.0470 - accuracy: 0.9822\n",
      "Epoch 25/50\n",
      "386/386 [==============================] - 1s 2ms/step - loss: 0.0478 - accuracy: 0.9820\n",
      "Epoch 26/50\n",
      "386/386 [==============================] - 1s 2ms/step - loss: 0.0472 - accuracy: 0.9814\n",
      "Epoch 27/50\n",
      "386/386 [==============================] - 1s 2ms/step - loss: 0.0430 - accuracy: 0.9832\n",
      "Epoch 28/50\n",
      "386/386 [==============================] - 1s 2ms/step - loss: 0.0357 - accuracy: 0.9865\n",
      "Epoch 29/50\n",
      "386/386 [==============================] - 1s 2ms/step - loss: 0.0409 - accuracy: 0.9841\n",
      "Epoch 30/50\n",
      "386/386 [==============================] - 1s 2ms/step - loss: 0.0299 - accuracy: 0.9890\n",
      "Epoch 31/50\n",
      "386/386 [==============================] - 1s 2ms/step - loss: 0.0315 - accuracy: 0.9888\n",
      "Epoch 32/50\n",
      "386/386 [==============================] - 1s 2ms/step - loss: 0.0342 - accuracy: 0.9880\n",
      "Epoch 33/50\n",
      "386/386 [==============================] - 1s 2ms/step - loss: 0.0277 - accuracy: 0.9908\n",
      "Epoch 34/50\n",
      "386/386 [==============================] - 1s 2ms/step - loss: 0.0348 - accuracy: 0.9861\n",
      "Epoch 35/50\n",
      "386/386 [==============================] - 1s 2ms/step - loss: 0.0293 - accuracy: 0.9895\n",
      "Epoch 36/50\n",
      "386/386 [==============================] - 1s 2ms/step - loss: 0.0233 - accuracy: 0.9925\n",
      "Epoch 37/50\n",
      "386/386 [==============================] - 1s 2ms/step - loss: 0.0262 - accuracy: 0.9901\n",
      "Epoch 38/50\n",
      "386/386 [==============================] - 1s 2ms/step - loss: 0.0274 - accuracy: 0.9904\n",
      "Epoch 39/50\n",
      "386/386 [==============================] - 1s 2ms/step - loss: 0.0242 - accuracy: 0.9912\n",
      "Epoch 40/50\n",
      "386/386 [==============================] - 1s 2ms/step - loss: 0.0196 - accuracy: 0.9938\n",
      "Epoch 41/50\n",
      "386/386 [==============================] - 1s 2ms/step - loss: 0.0247 - accuracy: 0.9914\n",
      "Epoch 42/50\n",
      "386/386 [==============================] - 1s 2ms/step - loss: 0.0220 - accuracy: 0.9921\n",
      "Epoch 43/50\n",
      "386/386 [==============================] - 1s 2ms/step - loss: 0.0219 - accuracy: 0.9929\n",
      "Epoch 44/50\n",
      "386/386 [==============================] - 1s 2ms/step - loss: 0.0226 - accuracy: 0.9924\n",
      "Epoch 45/50\n",
      "386/386 [==============================] - 1s 2ms/step - loss: 0.0186 - accuracy: 0.9942\n",
      "Epoch 46/50\n",
      "386/386 [==============================] - 1s 2ms/step - loss: 0.0226 - accuracy: 0.9923\n",
      "Epoch 47/50\n",
      "386/386 [==============================] - 1s 2ms/step - loss: 0.0204 - accuracy: 0.9921\n",
      "Epoch 48/50\n",
      "386/386 [==============================] - 1s 2ms/step - loss: 0.0176 - accuracy: 0.9937\n",
      "Epoch 49/50\n",
      "386/386 [==============================] - 1s 2ms/step - loss: 0.0174 - accuracy: 0.9944\n",
      "Epoch 50/50\n",
      "386/386 [==============================] - 1s 2ms/step - loss: 0.0191 - accuracy: 0.9933\n"
     ]
    },
    {
     "data": {
      "text/plain": [
       "<tensorflow.python.keras.callbacks.History at 0x25f95bc4eb0>"
      ]
     },
     "execution_count": 196,
     "metadata": {},
     "output_type": "execute_result"
    }
   ],
   "source": [
    "ann.fit(X_train, y_train, batch_size = 32, epochs = 50)"
   ]
  },
  {
   "cell_type": "code",
   "execution_count": 197,
   "id": "fdec0712",
   "metadata": {},
   "outputs": [
    {
     "name": "stdout",
     "output_type": "stream",
     "text": [
      "[[0 0]\n",
      " [0 1]\n",
      " [0 0]\n",
      " ...\n",
      " [0 0]\n",
      " [0 0]\n",
      " [0 0]]\n"
     ]
    }
   ],
   "source": [
    "y_pred = ann.predict(X_test)\n",
    "y_pred = (y_pred > 0.5)\n",
    "print(np.concatenate((y_pred.reshape(len(y_pred), 1), y_test.values.reshape(len(y_test), 1)), 1))"
   ]
  },
  {
   "cell_type": "code",
   "execution_count": 198,
   "id": "bd1196fb",
   "metadata": {},
   "outputs": [
    {
     "name": "stdout",
     "output_type": "stream",
     "text": [
      "[[2811   83]\n",
      " [ 179   11]]\n"
     ]
    },
    {
     "data": {
      "text/plain": [
       "0.9150453955901426"
      ]
     },
     "execution_count": 198,
     "metadata": {},
     "output_type": "execute_result"
    }
   ],
   "source": [
    "cm = confusion_matrix(y_test.values, y_pred)\n",
    "print(cm)\n",
    "accuracy_score(y_test.values, y_pred)"
   ]
  }
 ],
 "metadata": {
  "kernelspec": {
   "display_name": "machine_learning",
   "language": "python",
   "name": "machine_learning"
  },
  "language_info": {
   "codemirror_mode": {
    "name": "ipython",
    "version": 3
   },
   "file_extension": ".py",
   "mimetype": "text/x-python",
   "name": "python",
   "nbconvert_exporter": "python",
   "pygments_lexer": "ipython3",
   "version": "3.9.12"
  }
 },
 "nbformat": 4,
 "nbformat_minor": 5
}
