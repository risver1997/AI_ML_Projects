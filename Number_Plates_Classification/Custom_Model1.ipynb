{
 "cells": [
  {
   "cell_type": "code",
   "execution_count": 1,
   "id": "2fb04d1d",
   "metadata": {
    "_cell_guid": "b1076dfc-b9ad-4769-8c92-a6c4dae69d19",
    "_uuid": "8f2839f25d086af736a60e9eeb907d3b93b6e0e5",
    "execution": {
     "iopub.execute_input": "2023-07-22T08:42:34.751247Z",
     "iopub.status.busy": "2023-07-22T08:42:34.750839Z",
     "iopub.status.idle": "2023-07-22T08:42:34.762208Z",
     "shell.execute_reply": "2023-07-22T08:42:34.761301Z"
    },
    "papermill": {
     "duration": 0.020324,
     "end_time": "2023-07-22T08:42:34.764320",
     "exception": false,
     "start_time": "2023-07-22T08:42:34.743996",
     "status": "completed"
    },
    "tags": []
   },
   "outputs": [],
   "source": [
    "import numpy as np\n",
    "import pandas as pd"
   ]
  },
  {
   "cell_type": "code",
   "execution_count": 13,
   "id": "daddd8ed",
   "metadata": {
    "execution": {
     "iopub.execute_input": "2023-07-22T08:42:34.775512Z",
     "iopub.status.busy": "2023-07-22T08:42:34.775065Z",
     "iopub.status.idle": "2023-07-22T08:42:45.206846Z",
     "shell.execute_reply": "2023-07-22T08:42:45.205672Z"
    },
    "papermill": {
     "duration": 10.44074,
     "end_time": "2023-07-22T08:42:45.209890",
     "exception": false,
     "start_time": "2023-07-22T08:42:34.769150",
     "status": "completed"
    },
    "tags": []
   },
   "outputs": [],
   "source": [
    "import tensorflow\n",
    "from tensorflow import keras\n",
    "from tensorflow.keras import Sequential\n",
    "from tensorflow.keras.layers import Activation, BatchNormalization, Conv2D, Dense, Dropout, Flatten, MaxPooling2D, GlobalAveragePooling2D\n",
    "from tensorflow.keras.optimizers import Adam, SGD,RMSprop, Adadelta, Nadam\n",
    "from tensorflow.keras.models import Model\n",
    "from tensorflow.keras.layers.experimental.preprocessing import Rescaling"
   ]
  },
  {
   "cell_type": "code",
   "execution_count": 52,
   "id": "2f2379f6",
   "metadata": {},
   "outputs": [
    {
     "name": "stdout",
     "output_type": "stream",
     "text": [
      "2.6.0\n"
     ]
    }
   ],
   "source": [
    "print(tensorflow.__version__)"
   ]
  },
  {
   "cell_type": "code",
   "execution_count": 3,
   "id": "3f3fa3b3",
   "metadata": {
    "execution": {
     "iopub.execute_input": "2023-07-22T08:42:45.222240Z",
     "iopub.status.busy": "2023-07-22T08:42:45.221479Z",
     "iopub.status.idle": "2023-07-22T08:42:45.226232Z",
     "shell.execute_reply": "2023-07-22T08:42:45.225431Z"
    },
    "papermill": {
     "duration": 0.013682,
     "end_time": "2023-07-22T08:42:45.228605",
     "exception": false,
     "start_time": "2023-07-22T08:42:45.214923",
     "status": "completed"
    },
    "tags": []
   },
   "outputs": [],
   "source": [
    "img_width = 224\n",
    "img_height = 224\n",
    "channels=3\n",
    "batch_size = 32\n",
    "num_classes=56"
   ]
  },
  {
   "cell_type": "code",
   "execution_count": 4,
   "id": "e35a0d5a",
   "metadata": {
    "execution": {
     "iopub.execute_input": "2023-07-22T08:42:45.240878Z",
     "iopub.status.busy": "2023-07-22T08:42:45.240185Z",
     "iopub.status.idle": "2023-07-22T08:42:45.245475Z",
     "shell.execute_reply": "2023-07-22T08:42:45.244388Z"
    },
    "papermill": {
     "duration": 0.014212,
     "end_time": "2023-07-22T08:42:45.247707",
     "exception": false,
     "start_time": "2023-07-22T08:42:45.233495",
     "status": "completed"
    },
    "tags": []
   },
   "outputs": [],
   "source": [
    "seed_train_validation = 1\n",
    "shuffle_value = True"
   ]
  },
  {
   "cell_type": "code",
   "execution_count": 7,
   "id": "7f78b5df",
   "metadata": {
    "execution": {
     "iopub.execute_input": "2023-07-22T08:42:45.259670Z",
     "iopub.status.busy": "2023-07-22T08:42:45.258974Z",
     "iopub.status.idle": "2023-07-22T08:42:46.790271Z",
     "shell.execute_reply": "2023-07-22T08:42:46.789246Z"
    },
    "papermill": {
     "duration": 1.540425,
     "end_time": "2023-07-22T08:42:46.792981",
     "exception": false,
     "start_time": "2023-07-22T08:42:45.252556",
     "status": "completed"
    },
    "tags": []
   },
   "outputs": [
    {
     "name": "stdout",
     "output_type": "stream",
     "text": [
      "Found 8161 files belonging to 56 classes.\n",
      "Found 280 files belonging to 56 classes.\n"
     ]
    }
   ],
   "source": [
    "train_ds = keras.utils.image_dataset_from_directory(\n",
    "directory ='new plates/train',\n",
    "image_size = (224, 224),\n",
    "seed = seed_train_validation,\n",
    "    color_mode='rgb',\n",
    "    label_mode = 'categorical',\n",
    "    batch_size=32,\n",
    "shuffle = shuffle_value)\n",
    "\n",
    "val_ds = keras.utils.image_dataset_from_directory(\n",
    "directory ='new plates/test',\n",
    "    image_size = (224, 224),\n",
    "seed = seed_train_validation,\n",
    "    label_mode = 'categorical',\n",
    "    batch_size=32,\n",
    "color_mode = 'rgb',\n",
    "shuffle = shuffle_value)"
   ]
  },
  {
   "cell_type": "code",
   "execution_count": 8,
   "id": "b8817839",
   "metadata": {},
   "outputs": [],
   "source": [
    "AUTOTUNE = tensorflow.data.AUTOTUNE\n",
    "\n",
    "train_ds = train_ds.cache().prefetch(buffer_size=AUTOTUNE)\n",
    "val_ds = val_ds.cache().prefetch(buffer_size=AUTOTUNE)"
   ]
  },
  {
   "cell_type": "code",
   "execution_count": 11,
   "id": "95ae4647",
   "metadata": {},
   "outputs": [],
   "source": [
    "cnn_model = Sequential()\n",
    "cnn_model.add(Conv2D(filters=64, kernel_size=3, activation='relu', input_shape=(224, 224, 3)))\n",
    "cnn_model.add(MaxPooling2D(pool_size=2, strides=2))\n",
    "cnn_model.add(Conv2D(filters=64, kernel_size=3, activation='relu'))\n",
    "cnn_model.add(MaxPooling2D(pool_size=2, strides=2))\n",
    "cnn_model.add(Dropout(0.2))\n",
    "cnn_model.add(Flatten())\n",
    "cnn_model.add(Dense(units=512, activation='relu'))\n",
    "cnn_model.add(Dense(units=512, activation='relu'))\n",
    "cnn_model.add(Dense(units=256, activation='relu'))\n",
    "cnn_model.add(Dense(units=56, activation='sigmoid'))\n",
    "\n",
    "cnn_model.compile(optimizer='adam', loss='categorical_crossentropy', metrics=['accuracy'])"
   ]
  },
  {
   "cell_type": "code",
   "execution_count": 12,
   "id": "d08155c6",
   "metadata": {},
   "outputs": [
    {
     "name": "stdout",
     "output_type": "stream",
     "text": [
      "Epoch 1/10\n",
      "256/256 [==============================] - 9s 34ms/step - loss: 23.7454 - accuracy: 0.0830 - val_loss: 3.4606 - val_accuracy: 0.1679\n",
      "Epoch 2/10\n",
      "256/256 [==============================] - 9s 34ms/step - loss: 2.7698 - accuracy: 0.3430 - val_loss: 3.4149 - val_accuracy: 0.2964\n",
      "Epoch 3/10\n",
      "256/256 [==============================] - 9s 34ms/step - loss: 1.5784 - accuracy: 0.6113 - val_loss: 3.3209 - val_accuracy: 0.3214\n",
      "Epoch 4/10\n",
      "256/256 [==============================] - 9s 34ms/step - loss: 0.9782 - accuracy: 0.7547 - val_loss: 3.7564 - val_accuracy: 0.3714\n",
      "Epoch 5/10\n",
      "256/256 [==============================] - 9s 34ms/step - loss: 0.7297 - accuracy: 0.8228 - val_loss: 4.3501 - val_accuracy: 0.3536\n",
      "Epoch 6/10\n",
      "256/256 [==============================] - 9s 34ms/step - loss: 0.4491 - accuracy: 0.8884 - val_loss: 5.1488 - val_accuracy: 0.3643\n",
      "Epoch 7/10\n",
      "256/256 [==============================] - 9s 34ms/step - loss: 0.3657 - accuracy: 0.9150 - val_loss: 5.9991 - val_accuracy: 0.3429\n",
      "Epoch 8/10\n",
      "256/256 [==============================] - 9s 34ms/step - loss: 0.2967 - accuracy: 0.9294 - val_loss: 6.4174 - val_accuracy: 0.3393\n",
      "Epoch 9/10\n",
      "256/256 [==============================] - 9s 34ms/step - loss: 0.2806 - accuracy: 0.9370 - val_loss: 5.5640 - val_accuracy: 0.3429\n",
      "Epoch 10/10\n",
      "256/256 [==============================] - 9s 34ms/step - loss: 0.2511 - accuracy: 0.9387 - val_loss: 5.7993 - val_accuracy: 0.3464\n"
     ]
    },
    {
     "data": {
      "text/plain": [
       "<tensorflow.python.keras.callbacks.History at 0x207f3948130>"
      ]
     },
     "execution_count": 12,
     "metadata": {},
     "output_type": "execute_result"
    }
   ],
   "source": [
    "cnn_model.fit(train_ds, validation_data=val_ds, epochs=10)"
   ]
  }
 ],
 "metadata": {
  "kernelspec": {
   "display_name": "machine_learning",
   "language": "python",
   "name": "machine_learning"
  },
  "language_info": {
   "codemirror_mode": {
    "name": "ipython",
    "version": 3
   },
   "file_extension": ".py",
   "mimetype": "text/x-python",
   "name": "python",
   "nbconvert_exporter": "python",
   "pygments_lexer": "ipython3",
   "version": "3.9.12"
  },
  "papermill": {
   "default_parameters": {},
   "duration": 9272.518905,
   "end_time": "2023-07-22T11:16:56.047445",
   "environment_variables": {},
   "exception": null,
   "input_path": "__notebook__.ipynb",
   "output_path": "__notebook__.ipynb",
   "parameters": {},
   "start_time": "2023-07-22T08:42:23.528540",
   "version": "2.4.0"
  }
 },
 "nbformat": 4,
 "nbformat_minor": 5
}
